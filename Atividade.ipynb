{
 "cells": [
  {
   "cell_type": "code",
   "execution_count": 61,
   "id": "b6327bf0-2b34-4952-83c0-b407b50f61f0",
   "metadata": {},
   "outputs": [],
   "source": [
    "num1 = 8\n",
    "num2 = 4"
   ]
  },
  {
   "cell_type": "code",
   "execution_count": 63,
   "id": "0acebc7b-e1e7-4940-b6a2-ae78a1ee05f9",
   "metadata": {},
   "outputs": [
    {
     "name": "stdout",
     "output_type": "stream",
     "text": [
      "14\n"
     ]
    }
   ],
   "source": [
    "print (num + num2)"
   ]
  },
  {
   "cell_type": "code",
   "execution_count": 65,
   "id": "1583d3ed-d2e3-49a1-bcb8-07157dd5d68a",
   "metadata": {},
   "outputs": [
    {
     "name": "stdout",
     "output_type": "stream",
     "text": [
      "40\n"
     ]
    }
   ],
   "source": [
    "print (num * num2)"
   ]
  },
  {
   "cell_type": "code",
   "execution_count": 67,
   "id": "c32462da-bdf5-43e2-93fe-d76cdca53e1e",
   "metadata": {},
   "outputs": [],
   "source": [
    "nota1 = 6.5\n",
    "nota2 = 7\n",
    "nota3 = 4\n",
    "média = (nota1 + nota2 + nota3) / 3"
   ]
  },
  {
   "cell_type": "code",
   "execution_count": 69,
   "id": "c76981fa-df6d-4f93-b1d2-558ce1f8c046",
   "metadata": {},
   "outputs": [
    {
     "name": "stdout",
     "output_type": "stream",
     "text": [
      "5.833333333333333\n"
     ]
    }
   ],
   "source": [
    "print (média)"
   ]
  },
  {
   "cell_type": "code",
   "execution_count": 71,
   "id": "bb280caa-bdcd-4534-ae2f-cadba35ef546",
   "metadata": {},
   "outputs": [
    {
     "name": "stdout",
     "output_type": "stream",
     "text": [
      "Positivo\n"
     ]
    }
   ],
   "source": [
    "if num1 > 0:\n",
    "    print (\"Positivo\")\n",
    "else:\n",
    "    print (\"Negativo\")"
   ]
  },
  {
   "cell_type": "code",
   "execution_count": 73,
   "id": "4bb213ff-0184-4a02-870a-59d813cdd20c",
   "metadata": {},
   "outputs": [
    {
     "name": "stdout",
     "output_type": "stream",
     "text": [
      "O número é par.\n"
     ]
    }
   ],
   "source": [
    "if num2 % 2 == 0:\n",
    "    print(\"O número é par.\")\n",
    "else:\n",
    "    print(\"O número é ímpar.\")"
   ]
  },
  {
   "cell_type": "code",
   "execution_count": 75,
   "id": "3934b3f8-14e5-4e8f-8176-d064dcac9950",
   "metadata": {},
   "outputs": [
    {
     "name": "stdout",
     "output_type": "stream",
     "text": [
      "Média: 5.83 - Recuperação!\n"
     ]
    }
   ],
   "source": [
    "if média >= 6.0:\n",
    "    print(f\"Média: {média:.2f} - Aprovado!\")\n",
    "elif 4.0 <= média < 6.0:\n",
    "    print(f\"Média: {média:.2f} - Recuperação!\")\n",
    "else:\n",
    "    print(f\"Média: {média:.2f} - Reprovado!\")"
   ]
  },
  {
   "cell_type": "code",
   "execution_count": 77,
   "id": "3deb06a3-d66e-4483-a93d-15baebff13b3",
   "metadata": {},
   "outputs": [
    {
     "name": "stdin",
     "output_type": "stream",
     "text": [
      "Digite sua idade:  52\n"
     ]
    },
    {
     "name": "stdout",
     "output_type": "stream",
     "text": [
      "Categoria: Adulto\n"
     ]
    }
   ],
   "source": [
    "idade = int(input(\"Digite sua idade: \"))\n",
    "\n",
    "if idade < 12:\n",
    "    print(\"Categoria: Criança\")\n",
    "elif 12 <= idade < 18:\n",
    "    print(\"Categoria: Adolescente\")\n",
    "elif 18 <= idade < 60:\n",
    "    print(\"Categoria: Adulto\")\n",
    "else:\n",
    "    print(\"Categoria: Idoso\")\n"
   ]
  },
  {
   "cell_type": "code",
   "execution_count": 79,
   "id": "739d2eb7-1223-43b4-8598-4aa37282b2ab",
   "metadata": {},
   "outputs": [
    {
     "name": "stdout",
     "output_type": "stream",
     "text": [
      "1\n",
      "2\n",
      "3\n",
      "4\n",
      "5\n",
      "6\n",
      "7\n",
      "8\n",
      "9\n",
      "10\n"
     ]
    }
   ],
   "source": [
    "# Inicializa a variável\n",
    "num = 1\n",
    "\n",
    "# Loop while para imprimir de 1 a 10\n",
    "while num <= 10:\n",
    "    print(num)\n",
    "    num += 1  # Incrementa o número em 1\n"
   ]
  },
  {
   "cell_type": "code",
   "execution_count": 81,
   "id": "6d2c3579-0808-45ef-8955-2a9fd5504b6c",
   "metadata": {},
   "outputs": [
    {
     "name": "stdout",
     "output_type": "stream",
     "text": [
      "1\n",
      "2\n",
      "3\n",
      "4\n",
      "5\n",
      "6\n",
      "7\n",
      "8\n",
      "9\n",
      "10\n"
     ]
    }
   ],
   "source": [
    "# Loop for para imprimir de 1 a 10\n",
    "for num in range(1, 11):\n",
    "    print(num)\n"
   ]
  },
  {
   "cell_type": "code",
   "execution_count": 83,
   "id": "b635c3ee-7cf9-4479-8a92-1ef653609986",
   "metadata": {},
   "outputs": [
    {
     "name": "stdout",
     "output_type": "stream",
     "text": [
      "Tabuada do 8:\n",
      "8 x 1 = 8\n",
      "8 x 2 = 16\n",
      "8 x 3 = 24\n",
      "8 x 4 = 32\n",
      "8 x 5 = 40\n",
      "8 x 6 = 48\n",
      "8 x 7 = 56\n",
      "8 x 8 = 64\n",
      "8 x 9 = 72\n",
      "8 x 10 = 80\n"
     ]
    }
   ],
   "source": [
    "# Loop para exibir a tabuada de 1 a 10\n",
    "print(f\"Tabuada do {num1}:\")\n",
    "for i in range(1, 11):\n",
    "    print(f\"{num1} x {i} = {num1 * i}\")\n"
   ]
  },
  {
   "cell_type": "code",
   "execution_count": 85,
   "id": "437e1679-bafb-4da2-bc29-b9f284091f79",
   "metadata": {},
   "outputs": [
    {
     "name": "stdout",
     "output_type": "stream",
     "text": [
      "0\n",
      "10\n",
      "20\n",
      "30\n",
      "40\n",
      "50\n",
      "60\n",
      "70\n",
      "80\n",
      "90\n",
      "100\n"
     ]
    }
   ],
   "source": [
    "# Inicializa a variável\n",
    "num = 0\n",
    "\n",
    "# Loop while para imprimir de 0 a 100, de 10 em 10\n",
    "while num <= 100:\n",
    "    print(num)\n",
    "    num += 10  # Incrementa 10 a cada iteração\n"
   ]
  },
  {
   "cell_type": "code",
   "execution_count": 87,
   "id": "0431e922-6588-478d-9b41-219824cff34c",
   "metadata": {},
   "outputs": [
    {
     "name": "stdout",
     "output_type": "stream",
     "text": [
      "0\n",
      "2\n",
      "4\n",
      "6\n",
      "8\n",
      "10\n",
      "12\n",
      "14\n",
      "16\n",
      "18\n",
      "20\n"
     ]
    }
   ],
   "source": [
    "# Loop for para exibir os números pares de 0 a 20\n",
    "for num in range(0, 21, 2):\n",
    "    print(num)\n"
   ]
  },
  {
   "cell_type": "code",
   "execution_count": null,
   "id": "6957c2fc-98b0-4ae7-8830-c00e0116d712",
   "metadata": {},
   "outputs": [],
   "source": [
    "# Função que converte Celsius para Fahrenheit\n",
    "def celsius_para_fahrenheit(celsius):\n",
    "    fahrenheit = celsius * 1.8 + 32\n",
    "    return fahrenheit\n",
    "\n",
    "# Exemplo de uso da função\n",
    "celsius = float(input(\"Digite a temperatura em Celsius: \"))\n",
    "fahrenheit = celsius_para_fahrenheit(celsius)\n",
    "print(f\"A temperatura de {celsius}°C é igual a {fahrenheit}°F.\")\n"
   ]
  },
  {
   "cell_type": "code",
   "execution_count": null,
   "id": "f9a835e7-180e-4101-bfec-86a07cf221f4",
   "metadata": {},
   "outputs": [],
   "source": []
  }
 ],
 "metadata": {
  "kernelspec": {
   "display_name": "Python [conda env:base] *",
   "language": "python",
   "name": "conda-base-py"
  },
  "language_info": {
   "codemirror_mode": {
    "name": "ipython",
    "version": 3
   },
   "file_extension": ".py",
   "mimetype": "text/x-python",
   "name": "python",
   "nbconvert_exporter": "python",
   "pygments_lexer": "ipython3",
   "version": "3.12.7"
  }
 },
 "nbformat": 4,
 "nbformat_minor": 5
}
