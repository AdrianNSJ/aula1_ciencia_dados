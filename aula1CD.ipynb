{
 "cells": [
  {
   "cell_type": "code",
   "execution_count": 11,
   "id": "30ce6740-ef6f-4497-8d7e-d5f2b674c7b7",
   "metadata": {},
   "outputs": [],
   "source": [
    "num = 2\n",
    "num2 = 3"
   ]
  },
  {
   "cell_type": "code",
   "execution_count": 13,
   "id": "6805e409-6219-4a1b-b2d7-d0f4f396c631",
   "metadata": {},
   "outputs": [
    {
     "name": "stdout",
     "output_type": "stream",
     "text": [
      "2\n",
      "3\n"
     ]
    }
   ],
   "source": [
    "print(num)\n",
    "print(num2)"
   ]
  },
  {
   "cell_type": "code",
   "execution_count": 15,
   "id": "7673e537-a8ff-4c5e-8e41-f4c385e50697",
   "metadata": {},
   "outputs": [
    {
     "name": "stdout",
     "output_type": "stream",
     "text": [
      "5\n"
     ]
    }
   ],
   "source": [
    "print(num + num2)"
   ]
  },
  {
   "cell_type": "code",
   "execution_count": 19,
   "id": "44aedd20-c50b-4dd8-9b10-0d9f8225dd9a",
   "metadata": {},
   "outputs": [],
   "source": [
    "#Comentário em python\n"
   ]
  },
  {
   "cell_type": "code",
   "execution_count": null,
   "id": "d892a48f-ac19-49af-a183-9e298b1cfd08",
   "metadata": {},
   "outputs": [],
   "source": []
  }
 ],
 "metadata": {
  "kernelspec": {
   "display_name": "Python [conda env:base] *",
   "language": "python",
   "name": "conda-base-py"
  },
  "language_info": {
   "codemirror_mode": {
    "name": "ipython",
    "version": 3
   },
   "file_extension": ".py",
   "mimetype": "text/x-python",
   "name": "python",
   "nbconvert_exporter": "python",
   "pygments_lexer": "ipython3",
   "version": "3.12.7"
  }
 },
 "nbformat": 4,
 "nbformat_minor": 5
}
